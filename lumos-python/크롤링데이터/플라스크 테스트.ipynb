{
 "cells": [
  {
   "cell_type": "code",
   "execution_count": null,
   "id": "51fe3364",
   "metadata": {},
   "outputs": [],
   "source": [
    "from flask import Flask, request\n",
    "from flask_restful import Resource, Api\n",
    "from flask_cors import CORS\n",
    "\n",
    "app = Flask('similarity')\n",
    "api = Api(app)\n",
    "CORS(app)\n",
    "\n",
    "class SimilarityAPI(Resource):\n",
    "    def post(self):\n",
    "        # data = request.get_json()\n",
    "        return {'hello': 'world!!!'}\n",
    "\n",
    "api.add_resource(SimilarityAPI, '/similarity')\n",
    "\n",
    "if __name__ == '__main__':\n",
    "    app.run(debug=True)"
   ]
  },
  {
   "cell_type": "code",
   "execution_count": null,
   "id": "9113c53b",
   "metadata": {},
   "outputs": [],
   "source": []
  }
 ],
 "metadata": {
  "kernelspec": {
   "display_name": "Python [conda env:data_env] *",
   "language": "python",
   "name": "conda-env-data_env-py"
  },
  "language_info": {
   "codemirror_mode": {
    "name": "ipython",
    "version": 3
   },
   "file_extension": ".py",
   "mimetype": "text/x-python",
   "name": "python",
   "nbconvert_exporter": "python",
   "pygments_lexer": "ipython3",
   "version": "3.8.16"
  }
 },
 "nbformat": 4,
 "nbformat_minor": 5
}
