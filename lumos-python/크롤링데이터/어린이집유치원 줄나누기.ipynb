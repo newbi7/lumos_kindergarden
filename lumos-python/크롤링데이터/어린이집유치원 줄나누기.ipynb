{
 "cells": [
  {
   "cell_type": "code",
   "execution_count": 14,
   "id": "cdc9b6c7",
   "metadata": {},
   "outputs": [
    {
     "name": "stdout",
     "output_type": "stream",
     "text": [
      " \n",
      "어린이집\t서울특별시 / 종로구\tGS건설 꿈과 희망의 \n",
      "어린이집\t직장 일반\tA\t76\t41\t16\tY\t\t\t \t\n",
      "어린이집\t서울특별시 / 종로구\tKIM&CHANG \n",
      "어린이집\t직장 일반\tA\t49\t42\t16\tY\t\t\t \t\n",
      "어린이집\t서울특별시 / 종로구\tKT혜화 \n",
      "어린이집\t직장 일반\tA\t49\t4\t5\tY\t\t\t\n"
     ]
    }
   ],
   "source": [
    "import re\n",
    "\n",
    "data = ''' 어린이집\t서울특별시 / 종로구\tGS건설 꿈과 희망의 어린이집\t직장 일반\tA\t76\t41\t16\tY\t\t\t \t어린이집\t서울특별시 / 종로구\tKIM&CHANG 어린이집\t직장 일반\tA\t49\t42\t16\tY\t\t\t \t어린이집\t서울특별시 / 종로구\tKT혜화 어린이집\t직장 일반\tA\t49\t4\t5\tY\t\t\t'''\n",
    "\n",
    "pattern = re.compile(r'(\\b\\b어린이집|\\b\\b유치원)')  # 정규표현식 패턴 설정\n",
    "result = pattern.sub('\\n\\\\1', data)  # 엔터 문자를 추가한 새로운 문자열 생성\n",
    "\n",
    "# 결과 출력\n",
    "print(result)\n"
   ]
  },
  {
   "cell_type": "code",
   "execution_count": null,
   "id": "8cabee28",
   "metadata": {},
   "outputs": [],
   "source": [
    "s = \"\"\n",
    "keywords = [\"어린이집\", \"유치원\"]\n",
    "for keyword in keywords:\n",
    "    idx = s.find(keyword)\n",
    "    while idx != -1:\n",
    "        s =  \"\\n\" + s[:idx]  + s[idx:]\n",
    "        idx = s.find(keyword, idx + 1)\n",
    "print(s)"
   ]
  },
  {
   "cell_type": "code",
   "execution_count": null,
   "id": "650e49f1",
   "metadata": {},
   "outputs": [],
   "source": [
    "s = \"\"\n",
    "keywords = [\"어린이집\", \"유치원\"]\n",
    "for keyword in keywords:\n",
    "    idx = s.find(keyword)\n",
    "    while idx != -1:\n",
    "        s =  \"\\n\" + s[:idx]  + s[idx:]\n",
    "        idx = s.find(keyword, idx + 1)\n",
    "print(s)"
   ]
  },
  {
   "cell_type": "code",
   "execution_count": null,
   "id": "ad947071",
   "metadata": {},
   "outputs": [],
   "source": [
    "s = \"\"\n",
    "keywords = [\"어린이집\", \"유치원\"]\n",
    "for keyword in keywords:\n",
    "    idx = s.find(keyword)\n",
    "    while idx != -1:\n",
    "        s =  \"\\n\" + s[:idx]  + s[idx:]\n",
    "        idx = s.find(keyword, idx + 1)\n",
    "print(s)"
   ]
  },
  {
   "cell_type": "code",
   "execution_count": null,
   "id": "ff096f8a",
   "metadata": {},
   "outputs": [],
   "source": [
    "s = \"\"\n",
    "keywords = [\"어린이집\", \"유치원\"]\n",
    "for keyword in keywords:\n",
    "    idx = s.find(keyword)\n",
    "    while idx != -1:\n",
    "        s =  \"\\n\" + s[:idx]  + s[idx:]\n",
    "        idx = s.find(keyword, idx + 1)\n",
    "print(s)"
   ]
  },
  {
   "cell_type": "code",
   "execution_count": null,
   "id": "15cf412c",
   "metadata": {},
   "outputs": [],
   "source": [
    "s = \"\"\n",
    "keywords = [\"어린이집\", \"유치원\"]\n",
    "for keyword in keywords:\n",
    "    idx = s.find(keyword)\n",
    "    while idx != -1:\n",
    "        s =  \"\\n\" + s[:idx]  + s[idx:]\n",
    "        idx = s.find(keyword, idx + 1)\n",
    "print(s)"
   ]
  },
  {
   "cell_type": "code",
   "execution_count": null,
   "id": "50622444",
   "metadata": {},
   "outputs": [],
   "source": [
    "s = \"\"\n",
    "keywords = [\"어린이집\", \"유치원\"]\n",
    "for keyword in keywords:\n",
    "    idx = s.find(keyword)\n",
    "    while idx != -1:\n",
    "        s =  \"\\n\" + s[:idx]  + s[idx:]\n",
    "        idx = s.find(keyword, idx + 1)\n",
    "print(s)"
   ]
  },
  {
   "cell_type": "code",
   "execution_count": null,
   "id": "e3da1433",
   "metadata": {},
   "outputs": [],
   "source": [
    "s = \"\"\n",
    "keywords = [\"어린이집\", \"유치원\"]\n",
    "for keyword in keywords:\n",
    "    idx = s.find(keyword)\n",
    "    while idx != -1:\n",
    "        s =  \"\\n\" + s[:idx]  + s[idx:]\n",
    "        idx = s.find(keyword, idx + 1)\n",
    "print(s)"
   ]
  },
  {
   "cell_type": "code",
   "execution_count": null,
   "id": "f9f47f38",
   "metadata": {},
   "outputs": [],
   "source": [
    "s = \"\"\n",
    "keywords = [\"어린이집\", \"유치원\"]\n",
    "for keyword in keywords:\n",
    "    idx = s.find(keyword)\n",
    "    while idx != -1:\n",
    "        s =  \"\\n\" + s[:idx]  + s[idx:]\n",
    "        idx = s.find(keyword, idx + 1)\n",
    "print(s)"
   ]
  },
  {
   "cell_type": "code",
   "execution_count": null,
   "id": "e4881c1f",
   "metadata": {},
   "outputs": [],
   "source": [
    "s = \"\"\n",
    "keywords = [\"어린이집\", \"유치원\"]\n",
    "for keyword in keywords:\n",
    "    idx = s.find(keyword)\n",
    "    while idx != -1:\n",
    "        s =  \"\\n\" + s[:idx]  + s[idx:]\n",
    "        idx = s.find(keyword, idx + 1)\n",
    "print(s)"
   ]
  },
  {
   "cell_type": "code",
   "execution_count": null,
   "id": "ceb2cee0",
   "metadata": {},
   "outputs": [],
   "source": [
    "s = \"\"\n",
    "keywords = [\"어린이집\", \"유치원\"]\n",
    "for keyword in keywords:\n",
    "    idx = s.find(keyword)\n",
    "    while idx != -1:\n",
    "        s =  \"\\n\" + s[:idx]  + s[idx:]\n",
    "        idx = s.find(keyword, idx + 1)\n",
    "print(s)"
   ]
  },
  {
   "cell_type": "code",
   "execution_count": null,
   "id": "d6ddc668",
   "metadata": {},
   "outputs": [],
   "source": [
    "s = \"\"\n",
    "keywords = [\"어린이집\", \"유치원\"]\n",
    "for keyword in keywords:\n",
    "    idx = s.find(keyword)\n",
    "    while idx != -1:\n",
    "        s =  \"\\n\" + s[:idx]  + s[idx:]\n",
    "        idx = s.find(keyword, idx + 1)\n",
    "print(s)"
   ]
  },
  {
   "cell_type": "code",
   "execution_count": null,
   "id": "f4e45142",
   "metadata": {},
   "outputs": [],
   "source": [
    "s = \"\"\n",
    "keywords = [\"어린이집\", \"유치원\"]\n",
    "for keyword in keywords:\n",
    "    idx = s.find(keyword)\n",
    "    while idx != -1:\n",
    "        s =  \"\\n\" + s[:idx]  + s[idx:]\n",
    "        idx = s.find(keyword, idx + 1)\n",
    "print(s)"
   ]
  },
  {
   "cell_type": "code",
   "execution_count": null,
   "id": "90b52352",
   "metadata": {},
   "outputs": [],
   "source": [
    "s = \"\"\n",
    "keywords = [\"어린이집\", \"유치원\"]\n",
    "for keyword in keywords:\n",
    "    idx = s.find(keyword)\n",
    "    while idx != -1:\n",
    "        s =  \"\\n\" + s[:idx]  + s[idx:]\n",
    "        idx = s.find(keyword, idx + 1)\n",
    "print(s)"
   ]
  },
  {
   "cell_type": "code",
   "execution_count": null,
   "id": "4710f803",
   "metadata": {},
   "outputs": [],
   "source": [
    "s = \"\"\n",
    "keywords = [\"어린이집\", \"유치원\"]\n",
    "for keyword in keywords:\n",
    "    idx = s.find(keyword)\n",
    "    while idx != -1:\n",
    "        s =  \"\\n\" + s[:idx]  + s[idx:]\n",
    "        idx = s.find(keyword, idx + 1)\n",
    "print(s)"
   ]
  },
  {
   "cell_type": "code",
   "execution_count": null,
   "id": "97b6f9a9",
   "metadata": {},
   "outputs": [],
   "source": [
    "s = \"\"\n",
    "keywords = [\"어린이집\", \"유치원\"]\n",
    "for keyword in keywords:\n",
    "    idx = s.find(keyword)\n",
    "    while idx != -1:\n",
    "        s =  \"\\n\" + s[:idx]  + s[idx:]\n",
    "        idx = s.find(keyword, idx + 1)\n",
    "print(s)"
   ]
  },
  {
   "cell_type": "code",
   "execution_count": null,
   "id": "677015c4",
   "metadata": {},
   "outputs": [],
   "source": [
    "s = \"\"\n",
    "keywords = [\"어린이집\", \"유치원\"]\n",
    "for keyword in keywords:\n",
    "    idx = s.find(keyword)\n",
    "    while idx != -1:\n",
    "        s =  \"\\n\" + s[:idx]  + s[idx:]\n",
    "        idx = s.find(keyword, idx + 1)\n",
    "print(s)"
   ]
  },
  {
   "cell_type": "code",
   "execution_count": null,
   "id": "b9821989",
   "metadata": {},
   "outputs": [],
   "source": [
    "s = \"\"\n",
    "keywords = [\"어린이집\", \"유치원\"]\n",
    "for keyword in keywords:\n",
    "    idx = s.find(keyword)\n",
    "    while idx != -1:\n",
    "        s =  \"\\n\" + s[:idx]  + s[idx:]\n",
    "        idx = s.find(keyword, idx + 1)\n",
    "print(s)"
   ]
  }
 ],
 "metadata": {
  "kernelspec": {
   "display_name": "Python [conda env:data_env] *",
   "language": "python",
   "name": "conda-env-data_env-py"
  },
  "language_info": {
   "codemirror_mode": {
    "name": "ipython",
    "version": 3
   },
   "file_extension": ".py",
   "mimetype": "text/x-python",
   "name": "python",
   "nbconvert_exporter": "python",
   "pygments_lexer": "ipython3",
   "version": "3.8.16"
  }
 },
 "nbformat": 4,
 "nbformat_minor": 5
}
